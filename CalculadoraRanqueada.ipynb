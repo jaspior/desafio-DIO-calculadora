{
  "nbformat": 4,
  "nbformat_minor": 0,
  "metadata": {
    "colab": {
      "provenance": []
    },
    "kernelspec": {
      "name": "python3",
      "display_name": "Python 3"
    },
    "language_info": {
      "name": "python"
    }
  },
  "cells": [
    {
      "cell_type": "markdown",
      "source": [
        "# 2️⃣ Calculadora de partidas Rankeadas\n",
        "**O Que deve ser utilizado**\n",
        "\n",
        "- Variáveis\n",
        "- Operadores\n",
        "- Laços de repetição\n",
        "- Estruturas de decisões\n",
        "- Funções\n",
        "\n",
        "## Objetivo:\n",
        "\n",
        "Crie uma função que recebe como parâmetro a quantidade de vitórias e derrotas de um jogador,\n",
        "depois disso retorne o resultado para uma variável, o saldo de Rankeadas deve ser feito através do calculo (vitórias - derrotas)\n",
        "\n",
        "- Se vitórias for menor do que 10 = Ferro\n",
        "- Se vitórias for entre 11 e 20 = Bronze\n",
        "- Se vitórias for entre 21 e 50 = Prata\n",
        "- Se vitórias for entre 51 e 80 = Ouro\n",
        "- Se vitórias for entre 81 e 90 = Diamante\n",
        "- Se vitórias for entre 91 e 100= Lendário\n",
        "- Se vitórias for maior ou igual a 101 = Imortal\n",
        "\n",
        "## Saída\n",
        "\n",
        "Ao final deve se exibir uma mensagem:\n",
        "\"O Herói tem de saldo de **{saldoVitorias}** está no nível de **{nivel}**\""
      ],
      "metadata": {
        "id": "3nj-xTP2VJmw"
      }
    },
    {
      "cell_type": "code",
      "source": [
        "# Iniciando as variáveis\n",
        "\n",
        "SaldoVitorias = 0\n",
        "HeroLevel = \"\"\n",
        "\n",
        "print(SaldoVitorias)\n",
        "print(HeroLevel)"
      ],
      "metadata": {
        "colab": {
          "base_uri": "https://localhost:8080/"
        },
        "id": "EVHPhZLmVGbb",
        "outputId": "269f9c59-581a-4542-e6f4-7bbe77e78a38"
      },
      "execution_count": 1,
      "outputs": [
        {
          "output_type": "stream",
          "name": "stdout",
          "text": [
            "0\n",
            "\n"
          ]
        }
      ]
    },
    {
      "cell_type": "code",
      "source": [
        "def GetHeroLevel(xp):\n",
        "  level = \"\"\n",
        "\n",
        "# Se vitórias for menor do que 10 = Ferro\n",
        "  if xp <= 10:\n",
        "    level = \"Ferro\"\n",
        "\n",
        "#Se vitórias for entre 11 e 20 = Bronze\n",
        "  elif xp > 10 and xp <=20:\n",
        "    level = \"Bronze\"\n",
        "\n",
        "#Se vitórias for entre 21 e 50 = Prata\n",
        "  elif xp > 20 and xp <=50:\n",
        "    level = \"Prata\"\n",
        "\n",
        "#Se vitórias for entre 51 e 80 = Ouro\n",
        "  elif xp > 50 and xp <= 80:\n",
        "    level = \"Ouro\"\n",
        "\n",
        "#Se vitórias for entre 81 e 90 = Diamante\n",
        "  elif xp > 80 and xp <= 90:\n",
        "    level = \"Diamante\"\n",
        "\n",
        "#Se vitórias for entre 91 e 100= Lendário\n",
        "  elif xp > 90 and xp <=100:\n",
        "    level = \"Lendário\"\n",
        "\n",
        "#Se vitórias for maior ou igual a 101 = Imortal\n",
        "  else:\n",
        "    level = \"Imortal\"\n",
        "\n",
        "  print(\"O Herói tem de saldo de \" + str(xp) + \" está no nível de \" + level)"
      ],
      "metadata": {
        "id": "EfHF4n4hWFH3"
      },
      "execution_count": 5,
      "outputs": []
    },
    {
      "cell_type": "code",
      "source": [
        "# Digite o nome e a experiência do Herói. O Desafio não deixa claro se a pessoa deve digitar ou deve aparecer alguma entrada\n",
        "# aqui a pessoa deve digitar\n",
        "\n",
        "HeroName = \"Jozé\"\n",
        "SaldoVitorias = 10\n",
        "HeroLevel = GetHeroLevel(SaldoVitorias)\n",
        "\n"
      ],
      "metadata": {
        "colab": {
          "base_uri": "https://localhost:8080/"
        },
        "id": "Txliwm5RXUTo",
        "outputId": "b9dcf598-b043-4ac1-fd14-e608afb6d536"
      },
      "execution_count": 7,
      "outputs": [
        {
          "output_type": "stream",
          "name": "stdout",
          "text": [
            "O Herói tem de saldo de 10 está no nível de Ferro\n"
          ]
        }
      ]
    },
    {
      "cell_type": "code",
      "source": [
        "# Testes mudando as variáveis\n",
        "\n",
        "HeroName = \"Mariana\"\n",
        "HeroXP = 58\n",
        "HeroLevel = GetHeroLevel(HeroXP)\n"
      ],
      "metadata": {
        "colab": {
          "base_uri": "https://localhost:8080/"
        },
        "id": "OwD87AtpYH9K",
        "outputId": "84e5cd81-a633-4c20-e556-2aa90493f7db"
      },
      "execution_count": 8,
      "outputs": [
        {
          "output_type": "stream",
          "name": "stdout",
          "text": [
            "O Herói tem de saldo de 58 está no nível de Ouro\n"
          ]
        }
      ]
    },
    {
      "cell_type": "code",
      "source": [
        "# Testes mudando as variáveis\n",
        "\n",
        "HeroName = \"DIO\"\n",
        "HeroXP = 97\n",
        "HeroLevel = GetHeroLevel(HeroXP)\n"
      ],
      "metadata": {
        "colab": {
          "base_uri": "https://localhost:8080/"
        },
        "id": "oqqZb1c9YSjx",
        "outputId": "69295d6c-2487-4a5e-97e5-1971641411f1"
      },
      "execution_count": 10,
      "outputs": [
        {
          "output_type": "stream",
          "name": "stdout",
          "text": [
            "O Herói tem de saldo de 97 está no nível de Lendário\n"
          ]
        }
      ]
    },
    {
      "cell_type": "code",
      "source": [
        "# Testes mudando as variáveis\n",
        "\n",
        "HeroName = \"Dog\"\n",
        "HeroXP = 38\n",
        "HeroLevel = GetHeroLevel(HeroXP)\n"
      ],
      "metadata": {
        "colab": {
          "base_uri": "https://localhost:8080/"
        },
        "id": "g-m5bJB-YYQR",
        "outputId": "7b38b0dc-b694-4036-e605-9f1c21412fcf"
      },
      "execution_count": 11,
      "outputs": [
        {
          "output_type": "stream",
          "name": "stdout",
          "text": [
            "O Herói tem de saldo de 38 está no nível de Prata\n"
          ]
        }
      ]
    }
  ]
}